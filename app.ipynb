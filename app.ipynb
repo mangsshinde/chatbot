{
 "cells": [
  {
   "cell_type": "code",
   "execution_count": 1,
   "source": [
    "import json"
   ],
   "outputs": [],
   "metadata": {}
  },
  {
   "cell_type": "code",
   "execution_count": 2,
   "source": [
    "import pandas as pd"
   ],
   "outputs": [],
   "metadata": {}
  },
  {
   "cell_type": "code",
   "execution_count": 15,
   "source": [
    "with open ('chatdata.json', 'r') as f:\r\n",
    "    chat_data = json.load(f)\r\n",
    "    f.close()"
   ],
   "outputs": [],
   "metadata": {}
  },
  {
   "cell_type": "code",
   "execution_count": 31,
   "source": [
    "with open ('intents.json', 'r') as f:\r\n",
    "    responses = json.load(f)\r\n",
    "    f.close()"
   ],
   "outputs": [],
   "metadata": {}
  },
  {
   "cell_type": "code",
   "execution_count": 18,
   "source": [
    "training_dict = {}\r\n",
    "for intent, question_list in chat_data.items():\r\n",
    "    for question in question_list:\r\n",
    "        training_dict[question] = intent"
   ],
   "outputs": [],
   "metadata": {}
  },
  {
   "cell_type": "code",
   "execution_count": 19,
   "source": [
    "training_dict"
   ],
   "outputs": [
    {
     "output_type": "execute_result",
     "data": {
      "text/plain": [
       "{'Hi': 'greet',\n",
       " 'Hey': 'greet',\n",
       " 'Hello': 'greet',\n",
       " 'Hola': 'greet',\n",
       " 'Hi there': 'greet',\n",
       " 'Bye': 'goodbye',\n",
       " 'See you later': 'goodbye',\n",
       " 'Goodbye': 'goodbye',\n",
       " 'Thanks': 'thanks',\n",
       " 'Thank you': 'thanks',\n",
       " \"That's helpful\": 'thanks',\n",
       " 'Thanks for the help': 'thanks',\n",
       " 'Who are you?': 'about',\n",
       " 'What are you?': 'about',\n",
       " 'Who you are?': 'about',\n",
       " 'what is your name': 'name',\n",
       " 'what should I call you': 'name',\n",
       " 'whats your name?': 'name',\n",
       " 'Could you help me?': 'help',\n",
       " 'give me a hand please': 'help',\n",
       " 'Can you help?': 'help',\n",
       " 'What can you do for me?': 'help',\n",
       " 'I need a support': 'help',\n",
       " 'I need a help': 'help',\n",
       " 'support me please': 'help',\n",
       " 'I need to create a new account': 'createaccount',\n",
       " 'how to open a new account': 'createaccount',\n",
       " 'I want to create an account': 'createaccount',\n",
       " 'can you create an account for me': 'createaccount',\n",
       " 'have a complaint': 'complaint',\n",
       " 'I want to raise a complaint': 'complaint',\n",
       " 'there is a complaint about a service': 'complaint',\n",
       " 'what is corona?': 'corona_intro',\n",
       " 'what is covid?': 'corona_intro',\n",
       " 'what is covid-19?': 'corona_intro',\n",
       " 'tell me about corona': 'corona_intro',\n",
       " 'can you tell me about corona?': 'corona_intro',\n",
       " 'can you define corona?': 'corona_intro',\n",
       " 'what are covid vaccines?': 'corona_vaccine',\n",
       " 'is there any treatment for corona?': 'corona_vaccine',\n",
       " 'who are the manufacturers of vaccine?': 'corona_vaccine',\n",
       " 'is vaccine safe?': 'corona_vaccine',\n",
       " 'how does corona spread?': 'corona_spread',\n",
       " 'how does the virus spread?': 'corona_spread',\n",
       " 'how does the pandemic spread?': 'corona_spread',\n",
       " 'does the virus spread through air?': 'corona_spread',\n",
       " 'does corona spread from food?': 'corona_food_spread',\n",
       " 'how will corona spread from food?': 'corona_food_spread',\n",
       " 'does virus spread through foodstuffs like icecream and coldrinks?': 'corona_food_spread',\n",
       " 'does the virus contaminate food?': 'corona_food_spread',\n",
       " 'what are precautions to be taken?': 'corona_prevention',\n",
       " 'which mask should I wear?': 'corona_prevention',\n",
       " 'is sanitizer useful?': 'corona_prevention'}"
      ]
     },
     "metadata": {},
     "execution_count": 19
    }
   ],
   "metadata": {}
  },
  {
   "cell_type": "code",
   "execution_count": 20,
   "source": [
    "import numpy as np\r\n",
    "features = np.array(list(training_dict.keys()))\r\n",
    "labels = np.array(list(training_dict.values()))\r\n",
    "features"
   ],
   "outputs": [
    {
     "output_type": "execute_result",
     "data": {
      "text/plain": [
       "array(['Hi', 'Hey', 'Hello', 'Hola', 'Hi there', 'Bye', 'See you later',\n",
       "       'Goodbye', 'Thanks', 'Thank you', \"That's helpful\",\n",
       "       'Thanks for the help', 'Who are you?', 'What are you?',\n",
       "       'Who you are?', 'what is your name', 'what should I call you',\n",
       "       'whats your name?', 'Could you help me?', 'give me a hand please',\n",
       "       'Can you help?', 'What can you do for me?', 'I need a support',\n",
       "       'I need a help', 'support me please',\n",
       "       'I need to create a new account', 'how to open a new account',\n",
       "       'I want to create an account', 'can you create an account for me',\n",
       "       'have a complaint', 'I want to raise a complaint',\n",
       "       'there is a complaint about a service', 'what is corona?',\n",
       "       'what is covid?', 'what is covid-19?', 'tell me about corona',\n",
       "       'can you tell me about corona?', 'can you define corona?',\n",
       "       'what are covid vaccines?', 'is there any treatment for corona?',\n",
       "       'who are the manufacturers of vaccine?', 'is vaccine safe?',\n",
       "       'how does corona spread?', 'how does the virus spread?',\n",
       "       'how does the pandemic spread?',\n",
       "       'does the virus spread through air?',\n",
       "       'does corona spread from food?',\n",
       "       'how will corona spread from food?',\n",
       "       'does virus spread through foodstuffs like icecream and coldrinks?',\n",
       "       'does the virus contaminate food?',\n",
       "       'what are precautions to be taken?', 'which mask should I wear?',\n",
       "       'is sanitizer useful?'], dtype='<U65')"
      ]
     },
     "metadata": {},
     "execution_count": 20
    }
   ],
   "metadata": {}
  },
  {
   "cell_type": "code",
   "execution_count": 21,
   "source": [
    "labels"
   ],
   "outputs": [
    {
     "output_type": "execute_result",
     "data": {
      "text/plain": [
       "array(['greet', 'greet', 'greet', 'greet', 'greet', 'goodbye', 'goodbye',\n",
       "       'goodbye', 'thanks', 'thanks', 'thanks', 'thanks', 'about',\n",
       "       'about', 'about', 'name', 'name', 'name', 'help', 'help', 'help',\n",
       "       'help', 'help', 'help', 'help', 'createaccount', 'createaccount',\n",
       "       'createaccount', 'createaccount', 'complaint', 'complaint',\n",
       "       'complaint', 'corona_intro', 'corona_intro', 'corona_intro',\n",
       "       'corona_intro', 'corona_intro', 'corona_intro', 'corona_vaccine',\n",
       "       'corona_vaccine', 'corona_vaccine', 'corona_vaccine',\n",
       "       'corona_spread', 'corona_spread', 'corona_spread', 'corona_spread',\n",
       "       'corona_food_spread', 'corona_food_spread', 'corona_food_spread',\n",
       "       'corona_food_spread', 'corona_prevention', 'corona_prevention',\n",
       "       'corona_prevention'], dtype='<U18')"
      ]
     },
     "metadata": {},
     "execution_count": 21
    }
   ],
   "metadata": {}
  },
  {
   "cell_type": "code",
   "execution_count": 22,
   "source": [
    "from sklearn.feature_extraction.text import TfidfVectorizer\r\n",
    "tf_idf = TfidfVectorizer().fit(features)\r\n",
    "X = tf_idf.transform(features).toarray()"
   ],
   "outputs": [],
   "metadata": {}
  },
  {
   "cell_type": "code",
   "execution_count": 23,
   "source": [
    "y = labels"
   ],
   "outputs": [],
   "metadata": {}
  },
  {
   "cell_type": "code",
   "execution_count": 24,
   "source": [
    "y"
   ],
   "outputs": [
    {
     "output_type": "execute_result",
     "data": {
      "text/plain": [
       "array(['greet', 'greet', 'greet', 'greet', 'greet', 'goodbye', 'goodbye',\n",
       "       'goodbye', 'thanks', 'thanks', 'thanks', 'thanks', 'about',\n",
       "       'about', 'about', 'name', 'name', 'name', 'help', 'help', 'help',\n",
       "       'help', 'help', 'help', 'help', 'createaccount', 'createaccount',\n",
       "       'createaccount', 'createaccount', 'complaint', 'complaint',\n",
       "       'complaint', 'corona_intro', 'corona_intro', 'corona_intro',\n",
       "       'corona_intro', 'corona_intro', 'corona_intro', 'corona_vaccine',\n",
       "       'corona_vaccine', 'corona_vaccine', 'corona_vaccine',\n",
       "       'corona_spread', 'corona_spread', 'corona_spread', 'corona_spread',\n",
       "       'corona_food_spread', 'corona_food_spread', 'corona_food_spread',\n",
       "       'corona_food_spread', 'corona_prevention', 'corona_prevention',\n",
       "       'corona_prevention'], dtype='<U18')"
      ]
     },
     "metadata": {},
     "execution_count": 24
    }
   ],
   "metadata": {}
  },
  {
   "cell_type": "code",
   "execution_count": 25,
   "source": [
    "from sklearn.ensemble import RandomForestClassifier\r\n",
    "rnn = RandomForestClassifier(n_estimators=200)\r\n",
    "rnn.fit(X, y)"
   ],
   "outputs": [
    {
     "output_type": "execute_result",
     "data": {
      "text/plain": [
       "RandomForestClassifier(n_estimators=200)"
      ]
     },
     "metadata": {},
     "execution_count": 25
    }
   ],
   "metadata": {}
  },
  {
   "cell_type": "code",
   "execution_count": 36,
   "source": [
    "import joblib"
   ],
   "outputs": [],
   "metadata": {}
  },
  {
   "cell_type": "code",
   "execution_count": 37,
   "source": [
    "joblib.dump(rnn,'covbot.pkl')"
   ],
   "outputs": [
    {
     "output_type": "execute_result",
     "data": {
      "text/plain": [
       "['covbot.pkl']"
      ]
     },
     "metadata": {},
     "execution_count": 37
    }
   ],
   "metadata": {}
  },
  {
   "cell_type": "code",
   "execution_count": 38,
   "source": [
    "joblib.dump(tf_idf,'vect.pkl')"
   ],
   "outputs": [
    {
     "output_type": "execute_result",
     "data": {
      "text/plain": [
       "['vect.pkl']"
      ]
     },
     "metadata": {},
     "execution_count": 38
    }
   ],
   "metadata": {}
  },
  {
   "cell_type": "code",
   "execution_count": 32,
   "source": [
    "def botanswer(q):\r\n",
    "    process_text = tf_idf.transform([q]).toarray()\r\n",
    "    prob = rnn.predict_proba(process_text)[0]\r\n",
    "    max_ = np.argmax(prob)\r\n",
    "    if prob[max_] < 0.6: #Only 60% and above accurate\r\n",
    "        return \"Sorry I am not getting you...!\"\r\n",
    "    else:\r\n",
    "        return responses[rnn.classes_[max_]]"
   ],
   "outputs": [],
   "metadata": {}
  },
  {
   "cell_type": "code",
   "execution_count": 33,
   "source": [
    "while True:\r\n",
    "    user = input(\"User>> \")\r\n",
    "    if user == \"quit\":\r\n",
    "        break\r\n",
    "    print('Bot>>',format(botanswer(user)))"
   ],
   "outputs": [
    {
     "output_type": "stream",
     "name": "stdout",
     "text": [
      "Bot>> Hi there\n",
      "Bot>> Hi there\n",
      "Bot>> Hi there\n",
      "Bot>> Bye! Come back again\n",
      "Bot>> Sorry I am not getting you...!\n"
     ]
    }
   ],
   "metadata": {}
  },
  {
   "cell_type": "code",
   "execution_count": null,
   "source": [],
   "outputs": [],
   "metadata": {}
  }
 ],
 "metadata": {
  "kernelspec": {
   "name": "python3",
   "display_name": "Python 3.8.8 64-bit ('base': conda)"
  },
  "language_info": {
   "codemirror_mode": {
    "name": "ipython",
    "version": 3
   },
   "file_extension": ".py",
   "mimetype": "text/x-python",
   "name": "python",
   "nbconvert_exporter": "python",
   "pygments_lexer": "ipython3",
   "version": "3.8.8"
  },
  "interpreter": {
   "hash": "b3ba2566441a7c06988d0923437866b63cedc61552a5af99d1f4fb67d367b25f"
  }
 },
 "nbformat": 4,
 "nbformat_minor": 5
}